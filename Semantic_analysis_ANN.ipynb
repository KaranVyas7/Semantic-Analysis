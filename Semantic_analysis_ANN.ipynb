{
  "nbformat": 4,
  "nbformat_minor": 0,
  "metadata": {
    "colab": {
      "provenance": [],
      "gpuType": "T4",
      "include_colab_link": true
    },
    "kernelspec": {
      "name": "python3",
      "display_name": "Python 3"
    },
    "language_info": {
      "name": "python"
    },
    "accelerator": "GPU"
  },
  "cells": [
    {
      "cell_type": "markdown",
      "metadata": {
        "id": "view-in-github",
        "colab_type": "text"
      },
      "source": [
        "<a href=\"https://colab.research.google.com/github/KaranVyas7/Semantic-Analysis/blob/main/Semantic_analysis_ANN.ipynb\" target=\"_parent\"><img src=\"https://colab.research.google.com/assets/colab-badge.svg\" alt=\"Open In Colab\"/></a>"
      ]
    },
    {
      "cell_type": "markdown",
      "source": [
        "#Semantic Analysis with ANNs\n",
        "\n",
        "In this notebook we will learn about the basics of **Artificial Neural Networks** by implementing a semantic analysis on movie reviews. Model is trained on the Keras IMDB movie review sentiment dataset, found at https://keras.io/api/datasets/imdb/\n"
      ],
      "metadata": {
        "id": "xIFGKdd600A1"
      }
    },
    {
      "cell_type": "markdown",
      "source": [
        "##Setup\n",
        "First we want to import all necessary packages and access our dataset"
      ],
      "metadata": {
        "id": "sVEYTR4w0STk"
      }
    },
    {
      "cell_type": "code",
      "execution_count": null,
      "metadata": {
        "id": "j5eFgxGi0Ipv"
      },
      "outputs": [],
      "source": [
        "# Importing libraries\n",
        "import pandas as pd\n",
        "import numpy as np\n",
        "import matplotlib.pyplot as plt\n",
        "\n",
        "# Importing deep learning libraries\n",
        "import tensorflow as tf\n",
        "from tensorflow import keras\n",
        "from keras import Input\n",
        "from keras.models import Sequential\n",
        "from keras.layers import Dense, Flatten\n",
        "import cv2\n",
        "from sklearn.model_selection import train_test_split\n",
        "from sklearn.preprocessing import MinMaxScaler\n",
        "from sklearn.feature_extraction.text import CountVectorizer\n"
      ]
    },
    {
      "cell_type": "code",
      "source": [
        "## Loading dataset\n",
        "\n",
        "# Setting seed\n",
        "seed = 12345\n",
        "\n",
        "test_size = 1000\n",
        "train_size = 4000\n",
        "\n",
        "train_list, test_list = keras.datasets.imdb.load_data(seed = seed)\n",
        "word_dict = keras.datasets.imdb.get_word_index()\n",
        "\n",
        "\n",
        "# Split to create validation set\n",
        "x_val_list, x_test_list, y_val, y_test = train_test_split(test_list[0][:test_size*2],\n",
        "                                                          test_list[1][:test_size*2], test_size = .5, random_state = seed, shuffle = True)\n",
        "\n",
        "print(f'Training Data Shape: {train_list[0].shape}')\n",
        "print(f'Validation Data Shape: {x_val_list.shape}')\n",
        "print(f'Testing Data Shape: {x_test_list.shape}')"
      ],
      "metadata": {
        "id": "w5U1bSy93fQH",
        "colab": {
          "base_uri": "https://localhost:8080/"
        },
        "outputId": "1fb7ce8b-6c8e-438e-ab88-0f3b53080cea"
      },
      "execution_count": null,
      "outputs": [
        {
          "output_type": "stream",
          "name": "stdout",
          "text": [
            "Training Data Shape: (25000,)\n",
            "Validation Data Shape: (1000,)\n",
            "Testing Data Shape: (1000,)\n"
          ]
        }
      ]
    },
    {
      "cell_type": "markdown",
      "source": [
        "We can see that the shape of our training dataset is (25000,). This means that we have 25000 reviews. We later cut this down to 4000 (according to what we set 'train_size' to) due to limited RAM available on colab.\n",
        "\n",
        "You'll notice that there is no second number in the shape of our tuple, this is due to the fact that each sample is a review with a different number of words. However, to feed our data into an artificial neural network, we need a set size of data. How can this be done?"
      ],
      "metadata": {
        "id": "5hU4tIC7vx1M"
      }
    },
    {
      "cell_type": "markdown",
      "source": [
        "##Creating a Bag of Words Representation\n",
        "\n",
        "One of the most straightforward methods of turning a dataset of varying length documents (or in this case reviews) into a dataset of a consistent size is the **Bag of Words** representation.\n",
        "\n",
        "With Bag of Words, we only care about which words show up in a review, and how often they show up. We essentially just see each review as a *bag* filled with *words* rather than actual sentences.\n",
        "\n",
        "![image.png](https://miro.medium.com/v2/resize:fit:828/format:webp/1*axffCQ9ae0FHXxhuy66FbA.png)\n",
        "\n",
        "Now, information about each review is not saved as a number encoding of the review itself, but rather a list of all the words our model knows. Each entry is how many times that word appears in the review. For our purposes, we will be using a 'count' method, which just records how many times a word appears in the review, utilizing the CountVectorizer from sklearn."
      ],
      "metadata": {
        "id": "0VqV6Lzlm3w1"
      }
    },
    {
      "cell_type": "code",
      "source": [
        "\n",
        "\n",
        "# Turning list of numbers into strings for the vectorizer\n",
        "train_string = [' '.join(map(str, review)) for review in train_list[0][:train_size]]\n",
        "test_string = [' '.join(map(str, review)) for review in x_test_list]\n",
        "val_string = [' '.join(map(str, review)) for review in x_val_list]\n",
        "\n",
        "# Creating a Vectorizer to convert our data into Bag if Words Representations based on word count\n",
        "vectorizer = CountVectorizer()\n",
        "vectorizer.fit(train_string)\n",
        "\n",
        "x_train = vectorizer.transform(train_string)\n",
        "x_test = vectorizer.transform(test_string)\n",
        "x_val = vectorizer.transform(val_string)\n",
        "\n",
        "y_train = train_list[1][:train_size]"
      ],
      "metadata": {
        "id": "mQGx9VMB-e-V"
      },
      "execution_count": null,
      "outputs": []
    },
    {
      "cell_type": "code",
      "source": [
        "print(f'Training data shape: {x_train.shape}')\n"
      ],
      "metadata": {
        "id": "IQ5F96V3tgMv",
        "colab": {
          "base_uri": "https://localhost:8080/"
        },
        "outputId": "e2c31463-e525-4289-9d74-6c00d9ad65bb"
      },
      "execution_count": null,
      "outputs": [
        {
          "output_type": "stream",
          "name": "stdout",
          "text": [
            "Training data shape: (4000, 38469)\n"
          ]
        }
      ]
    },
    {
      "cell_type": "markdown",
      "source": [
        "**Supervised Learning**\n",
        "\n",
        "Before going any further, one must understand the types of machine learning. One of the most common types of machine learning is supervised learning. In supervised learning, you are given a X (some set of features) and a y (some target or the thing you want to predict). Each X is mapped to some y. In supervised learning, the goal is to find a model that can accurately estimate this mapping, f(x).\n",
        "\n",
        "Hence, in supervised learning, we utilize y to be able to build a \"function\"/model that can accurately predict y from a given x. There are 2 main types of supervised learning: **Classification** and **Regression**.\n",
        "\n",
        "Classification deals with predicting discrete classes (like this project!)\n",
        "\n",
        "Regression deals with predicting continuous values such as stock price prediction.\n",
        "\n",
        "There are also other types of machine learning such as un-supervised learning and semi-supervised learning. We won't be covering these topics as much (or at all).\n",
        "\n",
        "In this case, we are trying to map each X (the review) to a y (positive or negative sentiment)."
      ],
      "metadata": {
        "id": "l2NgnNOs0NHp"
      }
    },
    {
      "cell_type": "markdown",
      "source": [
        "## Building and Training our Model\n",
        "\n",
        "How does the model work?\n",
        "\n",
        "Before we analyze the model, we need to understand the human brain (just a little). The human body is comprised of millions to billions of neurons that send information to the brain and enable the brain to perform actions. For example, if my friend reaches out to shake my hand, my brain takes this information in via neurons, performs some computation, and sends an output that I need to shake my friend's hand.\n",
        "\n",
        "This is exactly where the idea of neural networks stems from. Note, this relationship between biological neural networks and the computational neural networks has become weaker and weaker over the years. Most ML practioners don't even use it anymore!"
      ],
      "metadata": {
        "id": "X7NZt7Tmsp7Q"
      }
    },
    {
      "cell_type": "markdown",
      "source": [
        "**What happens at each neuron?**\n",
        "\n",
        "We just discussed where neural networks come from, but we haven't discussed how they work. Specifically, we need to address what happens at each node/neuron/unit.\n",
        "\n",
        "For the sake of example, let's say that our neuron has 3 inputs: $x_1$, $x_2$, and $x_3$. Then, our neuron performs the following calculation:\n",
        "\n",
        "\n",
        "$$\n",
        "out = σ(w_1*x_1 + w_2*x_2 + w_3*x_3 + b)\n",
        "$$\n",
        "\n",
        "where\n",
        "\n",
        "$out$ = output \\\\\n",
        "$σ$ = activation function\n",
        "\n",
        "As you can see, each neuron takes the weighted summation of the inputs. Each input gets multiplied by the corresponding weight. Then, it is summed up and a bias is added. The activation function is some function (i.e sigmoid, relu, etc) that ensures that the model can capture non-linearity. Without the activation function, our model only be able to capture linear relationships since each neuron would be performing linear calculations (i.e if I have $f(x) = 3x$ and $g(x) = 6x$, then $f(g(x)) = 3 * 6x = 9x$, which is still a linear function).\n",
        "\n",
        "\\\\\n",
        "\n",
        "![image.png](https://www.researchgate.net/profile/Facundo-Bre/publication/321259051/figure/fig1/AS:614329250496529@1523478915726/Artificial-neural-network-architecture-ANN-i-h-1-h-2-h-n-o_W640.jpg)"
      ],
      "metadata": {
        "id": "HS3Jm6xz00AE"
      }
    },
    {
      "cell_type": "markdown",
      "source": [
        "**Universal Function Approximation**\n",
        "\n",
        "Remember how I earlier said that the goal of supervised learning is to be able to approximate the function f(x), where f(x) maps X to Y? Well it turns out, due to the flexibility of neural networks, we can ,in theory, approximate any function f(x). This is called the **universal function approximation theorem**.\n",
        "\n",
        "In essence, this theorem states that we could in theory approximate any function f(x) using neural networks."
      ],
      "metadata": {
        "id": "wcdct6XZ2Vaj"
      }
    },
    {
      "cell_type": "code",
      "source": [
        "# Defining our model structure\n",
        "model = Sequential()\n",
        "model.add(Dense(128,activation='relu', input_dim=x_train.shape[1])) # These Dense layers are our neuron layers\n",
        "model.add(Dense(64, activation='relu'))\n",
        "model.add(Dense(1, activation='sigmoid')) # Sigmoid scales our output between 0 and 1 for classifying 'negative' or 'positive'"
      ],
      "metadata": {
        "id": "e8xEnAvOxIFy"
      },
      "execution_count": null,
      "outputs": []
    },
    {
      "cell_type": "code",
      "source": [
        "model.summary()"
      ],
      "metadata": {
        "id": "6x7d-qqv3CDA",
        "colab": {
          "base_uri": "https://localhost:8080/"
        },
        "outputId": "796e1505-2907-411a-c657-0f46ac332ef0"
      },
      "execution_count": null,
      "outputs": [
        {
          "output_type": "stream",
          "name": "stdout",
          "text": [
            "Model: \"sequential_2\"\n",
            "_________________________________________________________________\n",
            " Layer (type)                Output Shape              Param #   \n",
            "=================================================================\n",
            " dense_6 (Dense)             (None, 128)               4924160   \n",
            "                                                                 \n",
            " dense_7 (Dense)             (None, 64)                8256      \n",
            "                                                                 \n",
            " dense_8 (Dense)             (None, 1)                 65        \n",
            "                                                                 \n",
            "=================================================================\n",
            "Total params: 4932481 (18.82 MB)\n",
            "Trainable params: 4932481 (18.82 MB)\n",
            "Non-trainable params: 0 (0.00 Byte)\n",
            "_________________________________________________________________\n"
          ]
        }
      ]
    },
    {
      "cell_type": "markdown",
      "source": [
        "**We built the model. Now what?**\n",
        "\n",
        "We understand that each neuron, we are taking a weighted summation of the inputs. But how exactly do we get those weights? Initially, a model is initialized with random weights; however, it is very, very unlikely that these weights are the correct ones. Furthermore, there is no database where we can find the proper weights since there are way too many models and problems. Hence, we need a way to \"train\" the model. Training the model is process of getting the model to find the weights."
      ],
      "metadata": {
        "id": "NkbcRbpU3Okw"
      }
    },
    {
      "cell_type": "markdown",
      "source": [
        "**How do we train the model?**\n",
        "\n",
        "To train the model, we need to understand 3 concepts: loss function, back propagation, and gradient descent.\n",
        "\n",
        "**Loss Function:** This is a function that tells us how bad our model is. We want to minimize this function, hence is needs to be differentiable (see below for why).\n",
        "\n",
        "**Back Propagation:** To minimize the loss function, we can utilize derivatives. Derivatives allow us to understand how each weight/parameter affects the loss. By leveraging the chain rule, back propagation is an algorithm that calculates the derivative of the loss with respect to the weight for each weight.\n",
        "\n",
        "**Gradient Descent:** Gradient descent is an optimization algorithm that helps us minimize the loss. Essentially, it is the following equation:\n",
        "\n",
        "$$\n",
        "w_{new} = w_{old} - α(\\frac{d}{dw}Loss(y, \\hat{y}))\n",
        "$$\n",
        "\n",
        "This equation is for every weight in the neural network. We update each weight based on the above equation. The alpha is the learning rate. It is also a hyper parameter (a parameter that we set and not learn). Typically, we set the learning rate to be anywhere from 0.001 to 0.01. The learning rate scales the derivative so that we don't update our weights by a lot each time. The purpose of the learning rate can be better understood with this analogy:\n",
        "\n",
        "Imagine you are the top of a hill. You would like to get to the bottom; however, there is dense fog around you. You can't see the bottom, nor can you see which direction to go in. Ideally, you would take small steps in the downward direction ,and eventually, you would reach the bottom. This is exactly what gradient descent does! The hill is the loss function and the learning rate is \"how big\" our step size is. We don't want to take a big step size because this means we might miss the minimum. The derivatives tell us how \"steep\" the hill is in each direction (our weights).\n",
        "\n",
        "To summarize, the neural network utilizes back propagation to calculate the derivatives of the loss with respect to each weight. Then, we update each weight using gradient descent. We run gradient descent for multiple epochs. Epochs are how many times we run the training data through the neural network. You can think of an epoch has a step down the hill.\n",
        "\n",
        "![image.png](https://sebastianraschka.com/images/faq/gradient-optimization/ball.png)"
      ],
      "metadata": {
        "id": "kxPGwNL83Qke"
      }
    },
    {
      "cell_type": "code",
      "source": [
        "# Compile the model\n",
        "model.compile(optimizer='adam', loss='binary_crossentropy', metrics=['accuracy'])\n",
        "\n",
        "# Train the model\n",
        "history = model.fit(x_train, y_train, epochs=10, batch_size=32, validation_data=(x_val, y_val))"
      ],
      "metadata": {
        "id": "htR8dgN129kL",
        "colab": {
          "base_uri": "https://localhost:8080/"
        },
        "outputId": "0fd35d7a-08ec-4360-f137-84d2ecd17255"
      },
      "execution_count": null,
      "outputs": [
        {
          "output_type": "stream",
          "name": "stdout",
          "text": [
            "Epoch 1/10\n",
            "125/125 [==============================] - 15s 112ms/step - loss: 0.4522 - accuracy: 0.7918 - val_loss: 0.3640 - val_accuracy: 0.8490\n",
            "Epoch 2/10\n",
            "125/125 [==============================] - 11s 90ms/step - loss: 0.0810 - accuracy: 0.9768 - val_loss: 0.3989 - val_accuracy: 0.8460\n",
            "Epoch 3/10\n",
            "125/125 [==============================] - 10s 77ms/step - loss: 0.0122 - accuracy: 0.9980 - val_loss: 0.5343 - val_accuracy: 0.8550\n",
            "Epoch 4/10\n",
            "125/125 [==============================] - 9s 70ms/step - loss: 0.0023 - accuracy: 0.9998 - val_loss: 0.5879 - val_accuracy: 0.8490\n",
            "Epoch 5/10\n",
            "125/125 [==============================] - 9s 68ms/step - loss: 6.6728e-04 - accuracy: 1.0000 - val_loss: 0.6382 - val_accuracy: 0.8490\n",
            "Epoch 6/10\n",
            "125/125 [==============================] - 7s 56ms/step - loss: 3.1809e-04 - accuracy: 1.0000 - val_loss: 0.6821 - val_accuracy: 0.8520\n",
            "Epoch 7/10\n",
            "125/125 [==============================] - 6s 49ms/step - loss: 1.7973e-04 - accuracy: 1.0000 - val_loss: 0.7186 - val_accuracy: 0.8510\n",
            "Epoch 8/10\n",
            "125/125 [==============================] - 5s 43ms/step - loss: 1.0978e-04 - accuracy: 1.0000 - val_loss: 0.7453 - val_accuracy: 0.8510\n",
            "Epoch 9/10\n",
            "125/125 [==============================] - 5s 36ms/step - loss: 7.1412e-05 - accuracy: 1.0000 - val_loss: 0.7723 - val_accuracy: 0.8510\n",
            "Epoch 10/10\n",
            "125/125 [==============================] - 4s 32ms/step - loss: 4.8752e-05 - accuracy: 1.0000 - val_loss: 0.7921 - val_accuracy: 0.8490\n"
          ]
        }
      ]
    },
    {
      "cell_type": "code",
      "source": [
        "# Let's see how the model performs on the test data\n",
        "model.evaluate(x=x_test, y=y_test, batch_size = 32)"
      ],
      "metadata": {
        "colab": {
          "base_uri": "https://localhost:8080/"
        },
        "id": "8xRrF30_4u11",
        "outputId": "fb67f8e9-a0e1-49bd-db4e-d1a4810c1061"
      },
      "execution_count": null,
      "outputs": [
        {
          "output_type": "stream",
          "name": "stdout",
          "text": [
            "32/32 [==============================] - 0s 3ms/step - loss: 0.8191 - accuracy: 0.8550\n"
          ]
        },
        {
          "output_type": "execute_result",
          "data": {
            "text/plain": [
              "[0.8190799355506897, 0.8550000190734863]"
            ]
          },
          "metadata": {},
          "execution_count": 38
        }
      ]
    },
    {
      "cell_type": "code",
      "source": [
        "# Plot accuracy\n",
        "plt.figure(figsize=(12, 6))\n",
        "plt.subplot(1, 2, 1)\n",
        "plt.plot(history.history['accuracy'], label='Training Accuracy')\n",
        "plt.plot(history.history['val_accuracy'], label='Validation Accuracy')\n",
        "plt.xlabel('Epoch')\n",
        "plt.ylabel('Accuracy')\n",
        "plt.title('Training and Validation Accuracy')\n",
        "plt.legend()\n",
        "\n",
        "# Plot loss\n",
        "plt.subplot(1, 2, 2)\n",
        "plt.plot(history.history['loss'], label='Training Loss')\n",
        "plt.plot(history.history['val_loss'], label='Validation Loss')\n",
        "plt.xlabel('Epoch')\n",
        "plt.ylabel('Loss')\n",
        "plt.title('Training and Validation Loss')\n",
        "plt.legend()\n",
        "\n",
        "plt.tight_layout()\n",
        "plt.show()"
      ],
      "metadata": {
        "colab": {
          "base_uri": "https://localhost:8080/",
          "height": 607
        },
        "id": "OjpcFjQ9AZ5J",
        "outputId": "4c5c28d4-456a-45a3-c69f-2512009d87c0"
      },
      "execution_count": null,
      "outputs": [
        {
          "output_type": "display_data",
          "data": {
            "text/plain": [
              "<Figure size 1200x600 with 2 Axes>"
            ],
            "image/png": "[encoded data removed]"
          },
          "metadata": {}
        }
      ]
    },
    {
      "cell_type": "markdown",
      "source": [
        "The model has a loss of 0.8191 and an accuracy of 85.50%. Clearly, there is a a gap between the metrics of the model on the test data and the metrics of the model on the training data. This is because of **overfitting**.\n",
        "\n",
        "Overfitting is a concept in machine learning which means that the model \"memorizes\" the training data rather than understanding patterns. Here is an example that better illustrates this concept:\n",
        "\n",
        "Imagine you are studying for a test. Instead of studying the concepts, you memorize the practice problems. When it comes time to the test, in all liklihood, you will fail because the test isn't the exact same as the practice problems. This is an example of overfitting. The model does really well on the training data, but not as well on the test data.\n",
        "\n",
        "To minimize overfitting, you can do multiple things:\n",
        "1. Get more data\n",
        "2. Regularize, penalize the model or add constraints to the weights\n",
        "\n",
        "Underfitting is the complete opposite: the model does poorly on the training data and on the testing data.\n",
        "\n",
        "To minimize underfitting, you can do multiple things:\n",
        "1. Build a more complex model\n",
        "2. Get more data"
      ],
      "metadata": {
        "id": "RiArMh596Ceb"
      }
    },
    {
      "cell_type": "markdown",
      "source": [
        "## Test the model on our own reviews!"
      ],
      "metadata": {
        "id": "G5WwpP4nALbr"
      }
    },
    {
      "cell_type": "code",
      "source": [
        "def input_to_encoding(input: str, word_dict):\n",
        "\n",
        "    # Convert input string to lowercase and remove non-alphanumeric characters\n",
        "    cleaned_string = ''.join(char.lower() if char.isalnum() or char.isspace() else ' ' for char in input)\n",
        "\n",
        "    # Split the cleaned string into a list of words\n",
        "    words = cleaned_string.split()\n",
        "\n",
        "    # Map each word to its corresponding integer value using the provided dictionary\n",
        "    encoding = [str(word_dict.get(word, 0)) for word in words]\n",
        "\n",
        "    encoding_string = [' '.join(encoding)]\n",
        "\n",
        "    return encoding_string\n"
      ],
      "metadata": {
        "id": "MkJoVvA3_bFd"
      },
      "execution_count": null,
      "outputs": []
    },
    {
      "cell_type": "code",
      "source": [
        "review = \"That was an absolute dumpster fire from start to finish. If there were an olympics \\\n",
        "            competition for most meaningless movies to watch, \\\n",
        "            this movie would win gold, silver, and bronze all on its own.\"\n",
        "\n",
        "# Encode our own review\n",
        "encoding = input_to_encoding(review, word_dict)\n",
        "\n",
        "# Transform it using the vectorizer\n",
        "input = vectorizer.transform(encoding)\n",
        "\n",
        "# Feed our encoded review into the model to predict the sentiment\n",
        "prediction = model.predict(input)\n",
        "\n",
        "print(\"Model Prediction: \", 'Positive' if prediction==1 else 'Negative')"
      ],
      "metadata": {
        "colab": {
          "base_uri": "https://localhost:8080/"
        },
        "id": "5Ux2wvtTANtQ",
        "outputId": "15034fad-1e2d-4906-a875-5b65806c9a87"
      },
      "execution_count": null,
      "outputs": [
        {
          "output_type": "stream",
          "name": "stdout",
          "text": [
            "1/1 [==============================] - 0s 9ms/step\n",
            "Model Prediction:  Negative\n"
          ]
        }
      ]
    }
  ]
}